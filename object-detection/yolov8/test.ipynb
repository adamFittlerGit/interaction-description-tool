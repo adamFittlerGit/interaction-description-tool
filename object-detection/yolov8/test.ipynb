{
 "cells": [
  {
   "cell_type": "code",
   "execution_count": 9,
   "metadata": {},
   "outputs": [
    {
     "name": "stdout",
     "output_type": "stream",
     "text": [
      "\n",
      "image 1/1 /mnt/c/Users/Adam/OneDrive/Desktop/UNIVERSITY/4th Year/Semester Two/DECO3801/Prototypes/Models/YOLOv8/data/images/test/IMG_2465_jpeg_jpg.rf.7e699ec1d2e373d93dac32cd02db9438.jpg: 640x480 19 jellyfishs, 62.8ms\n",
      "Speed: 8.2ms preprocess, 62.8ms inference, 9.8ms postprocess per image at shape (1, 3, 640, 480)\n"
     ]
    }
   ],
   "source": [
    "from ultralytics import YOLO\n",
    "\n",
    "\n",
    "# Load your trained YOLOv8 model\n",
    "model = YOLO('Path-to-weights') # Load current best model\n",
    "\n",
    "# Run inference on an image or a directory of images\n",
    "results = model('Path-to-image')\n"
   ]
  },
  {
   "cell_type": "code",
   "execution_count": 10,
   "metadata": {},
   "outputs": [
    {
     "name": "stdout",
     "output_type": "stream",
     "text": [
      "Class: jellyfish, Confidence: 0.9615\n",
      "Class: jellyfish, Confidence: 0.9327\n",
      "Class: jellyfish, Confidence: 0.9310\n",
      "Class: jellyfish, Confidence: 0.9227\n",
      "Class: jellyfish, Confidence: 0.8931\n",
      "Class: jellyfish, Confidence: 0.8860\n",
      "Class: jellyfish, Confidence: 0.8606\n",
      "Class: jellyfish, Confidence: 0.8282\n",
      "Class: jellyfish, Confidence: 0.8253\n",
      "Class: jellyfish, Confidence: 0.8203\n",
      "Class: jellyfish, Confidence: 0.8158\n",
      "Class: jellyfish, Confidence: 0.7937\n",
      "Class: jellyfish, Confidence: 0.7784\n",
      "Class: jellyfish, Confidence: 0.7665\n",
      "Class: jellyfish, Confidence: 0.6910\n",
      "Class: jellyfish, Confidence: 0.6676\n",
      "Class: jellyfish, Confidence: 0.5752\n",
      "Class: jellyfish, Confidence: 0.5538\n",
      "Class: jellyfish, Confidence: 0.2657\n"
     ]
    }
   ],
   "source": [
    "# Assuming results contain bounding boxes and other details\n",
    "for result in results:\n",
    "    for box in result.boxes:\n",
    "        class_id = int(box.cls)\n",
    "        confidence = float(box.conf)\n",
    "        # Get class name\n",
    "        class_name = model.names[class_id]\n",
    "        \n",
    "        # Print or save results\n",
    "        print(f\"Class: {class_name}, Confidence: {confidence:.4f}\")\n"
   ]
  }
 ],
 "metadata": {
  "kernelspec": {
   "display_name": "yolo8",
   "language": "python",
   "name": "python3"
  },
  "language_info": {
   "codemirror_mode": {
    "name": "ipython",
    "version": 3
   },
   "file_extension": ".py",
   "mimetype": "text/x-python",
   "name": "python",
   "nbconvert_exporter": "python",
   "pygments_lexer": "ipython3",
   "version": "3.12.2"
  }
 },
 "nbformat": 4,
 "nbformat_minor": 2
}
